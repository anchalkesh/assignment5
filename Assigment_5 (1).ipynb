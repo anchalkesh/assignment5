{
  "nbformat": 4,
  "nbformat_minor": 0,
  "metadata": {
    "colab": {
      "provenance": []
    },
    "kernelspec": {
      "name": "python3",
      "display_name": "Python 3"
    },
    "language_info": {
      "name": "python"
    }
  },
  "cells": [
    {
      "cell_type": "markdown",
      "source": [
        "#***Error Handling, Logging, and Data Manipulation***"
      ],
      "metadata": {
        "id": "7fVehyXy15a9"
      }
    },
    {
      "cell_type": "markdown",
      "source": [
        "###**1. What is the difference between multithreading and multiprocessing?**"
      ],
      "metadata": {
        "id": "Rx7uCnaE2eRq"
      }
    },
    {
      "cell_type": "markdown",
      "source": [
        "The difference between multithreading and multiprocessing is mainly how they handle parallel execution and system resources:\n",
        "\n",
        "###**Definition -**\n",
        "\n",
        "**(l) Multithreading -**  Runs multiple threads within a single process.\n",
        "\n",
        "**(ll) Multiprocessing -** Runs multiple processes, each with its own memory space.\n"
      ],
      "metadata": {
        "id": "A9HBuwzy2ozs"
      }
    },
    {
      "cell_type": "markdown",
      "source": [
        "###***Memory Usage -***\n",
        "\n",
        "**(l) Multithreading -** Threads share the same memory.\n",
        "\n",
        "**(ll) Multiprocessing -** Each process has its own separate memory."
      ],
      "metadata": {
        "id": "1Fg6cSEW4I7p"
      }
    },
    {
      "cell_type": "markdown",
      "source": [
        "###***Communication -***\n",
        "\n",
        "**(l) Multithreading -** Easier (shared memory).\n",
        "\n",
        "**(ll) Multiprocessing -** More complex (requires inter-process communication)."
      ],
      "metadata": {
        "id": "K2qggRV04ooW"
      }
    },
    {
      "cell_type": "markdown",
      "source": [
        "###***Best For -***\n",
        "\n",
        "**(l) Multithreading -** I/O-bound tasks (e.g., reading files, web requests).\n",
        "\n",
        "**(ll) Multiprocessing -** CPU-bound tasks (e.g., calculations, data processing)."
      ],
      "metadata": {
        "id": "IrODzZ5f5HJo"
      }
    },
    {
      "cell_type": "markdown",
      "source": [
        "###***Crash Impact -***\n",
        "\n",
        "**(l) Multithreading -** One thread crash can affect the whole process.\n",
        "\n",
        "**(ll)  Multiprocessing -** One process crash doesn’t affect others."
      ],
      "metadata": {
        "id": "icsLsVzW5e6_"
      }
    },
    {
      "cell_type": "markdown",
      "source": [
        "###***Parallel Execution in Python -***\n",
        "\n",
        "**(l) Multithreading -** Limited by the Global Interpreter Lock (GIL).\n",
        "\n",
        "**(ll) Multiprocessing -** Achieves true parallelism since each process has its own interpreter."
      ],
      "metadata": {
        "id": "rWr90V-t6CSY"
      }
    },
    {
      "cell_type": "markdown",
      "source": [
        "###***Modules Used -***\n",
        "\n",
        "**(l) Multithreading -** `threading`\n",
        "\n",
        "**(ll) Multiprocessing -** `multiprocessing`"
      ],
      "metadata": {
        "id": "PZ0C_vto6ZJK"
      }
    },
    {
      "cell_type": "markdown",
      "source": [
        "###**2. What are the challenges associated with memory management in Python?**"
      ],
      "metadata": {
        "id": "dpiefJa26z0m"
      }
    },
    {
      "cell_type": "markdown",
      "source": [
        "Memory management in Python -\n",
        "\n",
        "###***(I) Garbage Collection Overhead***\n",
        "\n",
        "* Python automatically manages memory using reference counting and a garbage collector.\n",
        "\n",
        "\n",
        "* However, garbage collection can introduce performance overhead, especially in large programs with many objects.\n",
        "\n"
      ],
      "metadata": {
        "id": "ybv2GqZq7Gd5"
      }
    },
    {
      "cell_type": "markdown",
      "source": [
        "###***(II) Circular References***\n",
        "\n",
        "* When two or more objects reference each other, their reference count never drops to zero.\n",
        "\n",
        "\n",
        "* The garbage collector must detect and clean these cycles, which adds complexity and sometimes fails if objects define custom `__del__()` methods.\n"
      ],
      "metadata": {
        "id": "KNpLXdj478Cp"
      }
    },
    {
      "cell_type": "markdown",
      "source": [
        "###***(III) Memory Leaks***\n",
        "\n",
        "* Even though Python manages memory automatically, memory leaks can still occur — for example, when:\n",
        "\n",
        "  (a) Objects are unintentionally kept in global variables or caches.\n",
        "\n",
        "  (b) References are held by closures or data structures (like lists or dictionaries) that aren’t cleared.\n"
      ],
      "metadata": {
        "id": "Vgbq6X_A8XJf"
      }
    },
    {
      "cell_type": "markdown",
      "source": [
        "###***(IV) Fragmentation***\n",
        "\n",
        "* Python’s memory allocator (especially in CPython) can lead to memory fragmentation, where free memory is spread in small pieces, reducing efficiency.\n"
      ],
      "metadata": {
        "id": "BcVY0W4681uK"
      }
    },
    {
      "cell_type": "markdown",
      "source": [
        "###***(V) Large Object Retention***\n",
        "\n",
        "* Large data structures (like big lists, dictionaries, or NumPy arrays) can stay in memory longer than expected, especially if references are not properly released.\n"
      ],
      "metadata": {
        "id": "ll2FpPGh93PC"
      }
    },
    {
      "cell_type": "markdown",
      "source": [
        "###***(VI) GIL Limitation***\n",
        "\n",
        "* The Global Interpreter Lock (GIL) restricts Python threads from executing simultaneously, which can affect performance and memory efficiency in multi-threaded applications."
      ],
      "metadata": {
        "id": "tlSzhLoy-Co8"
      }
    },
    {
      "cell_type": "markdown",
      "source": [
        "###***(VII) External Libraries***\n",
        "\n",
        "* Extensions written in C or C++ (like NumPy or custom modules) may manage memory outside of Python’s control, potentially causing leaks or crashes if not handled carefully.\n",
        "\n"
      ],
      "metadata": {
        "id": "jyOQqgx6-aeo"
      }
    },
    {
      "cell_type": "markdown",
      "source": [
        "###**3. Write a Python program that logs an error message to a log file when a division by zero exception occurs.**"
      ],
      "metadata": {
        "id": "SefTYofW-o7v"
      }
    },
    {
      "cell_type": "markdown",
      "source": [
        "A Python program that logs an error message to a log file when a division by zero exception occurs:"
      ],
      "metadata": {
        "id": "hHM5RCPK_Bks"
      }
    },
    {
      "cell_type": "code",
      "source": [
        "import logging\n",
        "\n",
        "# Configure logging\n",
        "logging.basicConfig(filename='error.log', level=logging.ERROR,\n",
        "                    format='%(asctime)s - %(levelname)s - %(message)s')\n",
        "\n",
        "def divide(a, b):\n",
        "    try:\n",
        "        result = a / b\n",
        "        print(f\"Result: {result}\")\n",
        "    except ZeroDivisionError as e:\n",
        "        logging.error(\"Division by zero error occurred: %s\", e)\n",
        "        print(\"Error: Cannot divide by zero!\")\n",
        "\n",
        "# Example usage\n",
        "divide(10, 0)\n"
      ],
      "metadata": {
        "colab": {
          "base_uri": "https://localhost:8080/"
        },
        "id": "u6CdjC_0_R2H",
        "outputId": "d5141470-e72d-45bf-a0d9-70a09ec4f60f"
      },
      "execution_count": null,
      "outputs": [
        {
          "output_type": "stream",
          "name": "stderr",
          "text": [
            "ERROR:root:Division by zero error occurred: division by zero\n"
          ]
        },
        {
          "output_type": "stream",
          "name": "stdout",
          "text": [
            "Error: Cannot divide by zero!\n"
          ]
        }
      ]
    },
    {
      "cell_type": "markdown",
      "source": [
        "###**4. Write a Python program that reads from one file and writes its content to another file .**"
      ],
      "metadata": {
        "id": "nhGz8hX7_bHq"
      }
    },
    {
      "cell_type": "markdown",
      "source": [
        "A simple Python program that reads content from one file and writes it to another file:"
      ],
      "metadata": {
        "id": "EHWNd2ff_6vM"
      }
    },
    {
      "cell_type": "code",
      "source": [
        "# Program to copy a file line by line\n",
        "\n",
        "source_file = \"input.txt\"\n",
        "destination_file = \"output.txt\"\n",
        "\n",
        "try:\n",
        "    with open(source_file, 'r') as src, open(destination_file, 'w') as dest:\n",
        "        for line in src:\n",
        "            dest.write(line)\n",
        "    print(\"File copied successfully!\")\n",
        "except FileNotFoundError:\n",
        "    print(\"Error: The source file does not exist.\")\n",
        "except Exception as e:\n",
        "    print(f\"An error occurred: {e}\")\n"
      ],
      "metadata": {
        "colab": {
          "base_uri": "https://localhost:8080/"
        },
        "id": "p2uFGPLP_9d9",
        "outputId": "774475a4-b7eb-4e5c-b10d-1eb8f7c796fc"
      },
      "execution_count": null,
      "outputs": [
        {
          "output_type": "stream",
          "name": "stdout",
          "text": [
            "Error: The source file does not exist.\n"
          ]
        }
      ]
    },
    {
      "cell_type": "markdown",
      "source": [
        "###**5. Write a program that handles both `IndexError` and `KeyError` using a try-except block .**:"
      ],
      "metadata": {
        "id": "XvRrx2tpAVPP"
      }
    },
    {
      "cell_type": "markdown",
      "source": [
        "A Python program that handles both `IndexError` and `KeyError` using a try-except block:"
      ],
      "metadata": {
        "id": "yWmjj2IYAgg2"
      }
    },
    {
      "cell_type": "code",
      "source": [
        "# Program to handle IndexError and KeyError\n",
        "\n",
        "numbers = [1, 2, 3]\n",
        "person = {\"name\": \"Anchal\", \"age\": 25}\n",
        "\n",
        "try:\n",
        "    # Attempt to access elements that might cause errors\n",
        "    for i in range(5):  # This will go beyond the list length\n",
        "        print(f\"Number at index {i}: {numbers[i]}\")\n",
        "\n",
        "    # Access a non-existent key in dictionary\n",
        "    print(f\"City: {person['city']}\")\n",
        "\n",
        "except IndexError:\n",
        "    print(\"Error: Tried to access an invalid list index.\")\n",
        "except KeyError:\n",
        "    print(\"Error: Tried to access a key that doesn't exist in the dictionary.\")\n"
      ],
      "metadata": {
        "colab": {
          "base_uri": "https://localhost:8080/"
        },
        "id": "U_LaxoGNA6b5",
        "outputId": "7d20d766-5f0d-48b1-f9be-9bd6f21a94a8"
      },
      "execution_count": 3,
      "outputs": [
        {
          "output_type": "stream",
          "name": "stdout",
          "text": [
            "Number at index 0: 1\n",
            "Number at index 1: 2\n",
            "Number at index 2: 3\n",
            "Error: Tried to access an invalid list index.\n"
          ]
        }
      ]
    },
    {
      "cell_type": "markdown",
      "source": [
        "###**6. What are the differences between `NumPy arrays` and `Python lists`?**"
      ],
      "metadata": {
        "id": "rkHVEzZ8BHM0"
      }
    },
    {
      "cell_type": "markdown",
      "source": [
        "| **Feature**               | **NumPy Array**                                                                                    | **Python List**                                                         |\n",
        "| ------------------------- | -------------------------------------------------------------------------------------------------- | ----------------------------------------------------------------------- |\n",
        "| **Data Type**             | Can store **only one data type** (e.g., all integers or all floats).                               | Can store **mixed data types** (e.g., int, float, string).              |\n",
        "| **Memory Efficiency**     | More **memory-efficient** — stores data in a compact way.                                          | Less efficient — stores references to objects, which takes more memory. |\n",
        "| **Performance**           | Much **faster** for numerical operations (implemented in C).                                       | **Slower** for numerical computations.                                  |\n",
        "| **Vectorized Operations** | Supports **vectorized operations** — you can perform math directly on arrays without loops.        | Does **not** support vectorized math; must loop manually.               |\n",
        "| **Dimensionality**        | Can handle **multi-dimensional arrays** (e.g., matrices, tensors).                                 | Usually **one-dimensional**; nested lists needed for higher dimensions. |\n",
        "| **Functions & Features**  | Provides many **built-in mathematical functions** (e.g., `sum()`, `mean()`, `dot()`, `reshape()`). | Fewer built-in functions for numerical computation.                     |\n",
        "| **Memory Storage**        | Stores data in **contiguous memory** blocks.                                                       | Stores **references** to objects scattered in memory.                   |\n",
        "| **Library Requirement**   | Requires the **NumPy** library (`import numpy as np`).                                             | Built-in data structure in Python (no imports needed).                  |\n"
      ],
      "metadata": {
        "id": "hCeNBHyOGkpT"
      }
    },
    {
      "cell_type": "markdown",
      "source": [
        "**Example -**"
      ],
      "metadata": {
        "id": "MozdKYNuHLUY"
      }
    },
    {
      "cell_type": "code",
      "source": [
        "import numpy as np\n",
        "\n",
        "# NumPy array\n",
        "arr = np.array([4, 3, 2])\n",
        "print(arr + 5)\n",
        "\n",
        "# Python list\n",
        "lst = [4, 3, 2]\n",
        "print([x + 5 for x in lst])\n"
      ],
      "metadata": {
        "colab": {
          "base_uri": "https://localhost:8080/"
        },
        "id": "hnqKCTADHXl6",
        "outputId": "d692e428-55cb-4a92-f175-41d6b94bb7df"
      },
      "execution_count": 6,
      "outputs": [
        {
          "output_type": "stream",
          "name": "stdout",
          "text": [
            "[9 8 7]\n",
            "[9, 8, 7]\n"
          ]
        }
      ]
    },
    {
      "cell_type": "markdown",
      "source": [
        "###**7. Explain the difference between `apply()` and `map()` in Pandas.**"
      ],
      "metadata": {
        "id": "7NaU47AmHkZi"
      }
    },
    {
      "cell_type": "markdown",
      "source": [
        "In Pandas, both `apply()` and `map()` are used to apply functions to data, but they differ in scope, usage, and flexibility."
      ],
      "metadata": {
        "id": "zXAjeCnkIbyy"
      }
    },
    {
      "cell_type": "markdown",
      "source": [
        "| **Aspect**         | **`map()`**                                                               | **`apply()`**                                                                           |\n",
        "| ------------------ | ------------------------------------------------------------------------- | --------------------------------------------------------------------------------------- |\n",
        "| **Used With**      | Works only on **Series** (one column).                                    | Works on both **Series and DataFrames**.                                                |\n",
        "| **Function Scope** | Applies a function **element-wise** to each value in a Series.            | Can apply a function to **rows or columns** of a DataFrame or element-wise to a Series. |\n",
        "| **Input Type**     | Accepts a **function**, **dictionary**, or **Series** for mapping values. | Accepts any **function** that operates on a row, column, or entire DataFrame.           |\n",
        "| **Return Type**    | Returns a new **Series**.                                                 | Returns either a **Series** or **DataFrame**, depending on context.                     |\n",
        "| **Common Use**     | Transform or map individual values in a column.                           | Perform custom operations involving multiple columns or aggregations.                   |\n"
      ],
      "metadata": {
        "id": "95bU_WBRIMzL"
      }
    },
    {
      "cell_type": "markdown",
      "source": [
        "**Example For `map()` -**"
      ],
      "metadata": {
        "id": "Hr49zR39Iu8Z"
      }
    },
    {
      "cell_type": "code",
      "source": [
        "import pandas as pd\n",
        "\n",
        "s = pd.Series([3, 4, 5, 6])\n",
        "print(s.map(lambda x: x**2))\n"
      ],
      "metadata": {
        "colab": {
          "base_uri": "https://localhost:8080/"
        },
        "id": "paik1dJxI2OS",
        "outputId": "644abc5b-a5d0-48e1-c7e1-2671185cb676"
      },
      "execution_count": 9,
      "outputs": [
        {
          "output_type": "stream",
          "name": "stdout",
          "text": [
            "0     9\n",
            "1    16\n",
            "2    25\n",
            "3    36\n",
            "dtype: int64\n"
          ]
        }
      ]
    },
    {
      "cell_type": "markdown",
      "source": [
        "**Example For `apply()` -**"
      ],
      "metadata": {
        "id": "3svmO3TNI7SO"
      }
    },
    {
      "cell_type": "code",
      "source": [
        "import pandas as pd\n",
        "\n",
        "df = pd.DataFrame({\n",
        "    'A': [3, 4, 5],\n",
        "    'B': [30, 40, 50]\n",
        "})\n",
        "\n",
        "# Apply function to each column\n",
        "print(df.apply(lambda x: x * 2))\n"
      ],
      "metadata": {
        "colab": {
          "base_uri": "https://localhost:8080/"
        },
        "id": "-lZEeFZGJBnz",
        "outputId": "520f8275-17f9-44c7-d2b2-b8013646117f"
      },
      "execution_count": 10,
      "outputs": [
        {
          "output_type": "stream",
          "name": "stdout",
          "text": [
            "    A    B\n",
            "0   6   60\n",
            "1   8   80\n",
            "2  10  100\n"
          ]
        }
      ]
    },
    {
      "cell_type": "markdown",
      "source": [
        "###**8. Create a histogram using Seaborn to visualize a distribution.**"
      ],
      "metadata": {
        "id": "MjwfFqrCJE01"
      }
    },
    {
      "cell_type": "markdown",
      "source": [
        "A simple example of creating a histogram using Seaborn to visualize a distribution:"
      ],
      "metadata": {
        "id": "XWPIde0hJWls"
      }
    },
    {
      "cell_type": "code",
      "source": [
        "import seaborn as sns\n",
        "import matplotlib.pyplot as plt\n",
        "import numpy as np\n",
        "\n",
        "# Generate some random data\n",
        "data = np.random.randn(70)\n",
        "# Create histogram\n",
        "sns.histplot(data, bins=30, kde=False, color='blue')\n",
        "\n",
        "# Add title and labels\n",
        "plt.title(\"Histogram of Normally Distributed Data\")\n",
        "plt.xlabel(\"Value\")\n",
        "plt.ylabel(\"Frequency\")\n",
        "\n",
        "# Show the plot\n",
        "plt.show()\n"
      ],
      "metadata": {
        "colab": {
          "base_uri": "https://localhost:8080/",
          "height": 472
        },
        "id": "j-RMfqyJJb5z",
        "outputId": "df2819a7-00ab-469d-f88e-1bb457d3e1d6"
      },
      "execution_count": 11,
      "outputs": [
        {
          "output_type": "display_data",
          "data": {
            "text/plain": [
              "<Figure size 640x480 with 1 Axes>"
            ],
            "image/png": "[encoded data removed]"
          },
          "metadata": {}
        }
      ]
    },
    {
      "cell_type": "markdown",
      "source": [
        "###**9. Use Pandas to load a CSV file and display its first 5 rows.**"
      ],
      "metadata": {
        "id": "KRrJ8ZxQJ8M7"
      }
    },
    {
      "cell_type": "markdown",
      "source": [
        "A simple Python program using Pandas to load a CSV file and display its first 5 rows:"
      ],
      "metadata": {
        "id": "pRe64RlDKUw_"
      }
    },
    {
      "cell_type": "code",
      "source": [
        "import pandas as pd\n",
        "\n",
        "# Load the CSV file with some options\n",
        "df = pd.read_csv(\n",
        "    \"data.csv\",\n",
        "    sep=\",\",\n",
        "    na_values=[\"Hindi\", \"Maths\", \"English\", \"Science\", \"Statistics\"]\n",
        ")\n",
        "\n",
        "# Display the first 5 rows\n",
        "print(df.head(5))\n",
        "\n",
        "# Create a sample data.csv file for demonstration\n",
        "import pandas as pd\n",
        "\n",
        "Subject__Marks = {'Anchal Marks': [85, 90, 70, 65, 75],\n",
        "               'Komal Marks': [95, 92, 93, 88, 86]}\n",
        "sample_df = pd.DataFrame(Subject__Marks)\n",
        "sample_df.to_csv('data.csv', index=False)\n",
        "\n",
        "print(\"Sample 'data.csv' created successfully.\")\n",
        "\n",
        "print(df.info())"
      ],
      "metadata": {
        "colab": {
          "base_uri": "https://localhost:8080/",
          "height": 356
        },
        "id": "6TJpRH0QKXC-",
        "outputId": "50203bfb-7b34-4aa0-a3eb-ffc0bfaa3b99"
      },
      "execution_count": 1,
      "outputs": [
        {
          "output_type": "error",
          "ename": "FileNotFoundError",
          "evalue": "[Errno 2] No such file or directory: 'data.csv'",
          "traceback": [
            "\u001b[0;31m---------------------------------------------------------------------------\u001b[0m",
            "\u001b[0;31mFileNotFoundError\u001b[0m                         Traceback (most recent call last)",
            "\u001b[0;32m/tmp/ipython-input-1590058940.py\u001b[0m in \u001b[0;36m<cell line: 0>\u001b[0;34m()\u001b[0m\n\u001b[1;32m      2\u001b[0m \u001b[0;34m\u001b[0m\u001b[0m\n\u001b[1;32m      3\u001b[0m \u001b[0;31m# Load the CSV file with some options\u001b[0m\u001b[0;34m\u001b[0m\u001b[0;34m\u001b[0m\u001b[0m\n\u001b[0;32m----> 4\u001b[0;31m df = pd.read_csv(\n\u001b[0m\u001b[1;32m      5\u001b[0m     \u001b[0;34m\"data.csv\"\u001b[0m\u001b[0;34m,\u001b[0m\u001b[0;34m\u001b[0m\u001b[0;34m\u001b[0m\u001b[0m\n\u001b[1;32m      6\u001b[0m     \u001b[0msep\u001b[0m\u001b[0;34m=\u001b[0m\u001b[0;34m\",\"\u001b[0m\u001b[0;34m,\u001b[0m\u001b[0;34m\u001b[0m\u001b[0;34m\u001b[0m\u001b[0m\n",
            "\u001b[0;32m/usr/local/lib/python3.12/dist-packages/pandas/io/parsers/readers.py\u001b[0m in \u001b[0;36mread_csv\u001b[0;34m(filepath_or_buffer, sep, delimiter, header, names, index_col, usecols, dtype, engine, converters, true_values, false_values, skipinitialspace, skiprows, skipfooter, nrows, na_values, keep_default_na, na_filter, verbose, skip_blank_lines, parse_dates, infer_datetime_format, keep_date_col, date_parser, date_format, dayfirst, cache_dates, iterator, chunksize, compression, thousands, decimal, lineterminator, quotechar, quoting, doublequote, escapechar, comment, encoding, encoding_errors, dialect, on_bad_lines, delim_whitespace, low_memory, memory_map, float_precision, storage_options, dtype_backend)\u001b[0m\n\u001b[1;32m   1024\u001b[0m     \u001b[0mkwds\u001b[0m\u001b[0;34m.\u001b[0m\u001b[0mupdate\u001b[0m\u001b[0;34m(\u001b[0m\u001b[0mkwds_defaults\u001b[0m\u001b[0;34m)\u001b[0m\u001b[0;34m\u001b[0m\u001b[0;34m\u001b[0m\u001b[0m\n\u001b[1;32m   1025\u001b[0m \u001b[0;34m\u001b[0m\u001b[0m\n\u001b[0;32m-> 1026\u001b[0;31m     \u001b[0;32mreturn\u001b[0m \u001b[0m_read\u001b[0m\u001b[0;34m(\u001b[0m\u001b[0mfilepath_or_buffer\u001b[0m\u001b[0;34m,\u001b[0m \u001b[0mkwds\u001b[0m\u001b[0;34m)\u001b[0m\u001b[0;34m\u001b[0m\u001b[0;34m\u001b[0m\u001b[0m\n\u001b[0m\u001b[1;32m   1027\u001b[0m \u001b[0;34m\u001b[0m\u001b[0m\n\u001b[1;32m   1028\u001b[0m \u001b[0;34m\u001b[0m\u001b[0m\n",
            "\u001b[0;32m/usr/local/lib/python3.12/dist-packages/pandas/io/parsers/readers.py\u001b[0m in \u001b[0;36m_read\u001b[0;34m(filepath_or_buffer, kwds)\u001b[0m\n\u001b[1;32m    618\u001b[0m \u001b[0;34m\u001b[0m\u001b[0m\n\u001b[1;32m    619\u001b[0m     \u001b[0;31m# Create the parser.\u001b[0m\u001b[0;34m\u001b[0m\u001b[0;34m\u001b[0m\u001b[0m\n\u001b[0;32m--> 620\u001b[0;31m     \u001b[0mparser\u001b[0m \u001b[0;34m=\u001b[0m \u001b[0mTextFileReader\u001b[0m\u001b[0;34m(\u001b[0m\u001b[0mfilepath_or_buffer\u001b[0m\u001b[0;34m,\u001b[0m \u001b[0;34m**\u001b[0m\u001b[0mkwds\u001b[0m\u001b[0;34m)\u001b[0m\u001b[0;34m\u001b[0m\u001b[0;34m\u001b[0m\u001b[0m\n\u001b[0m\u001b[1;32m    621\u001b[0m \u001b[0;34m\u001b[0m\u001b[0m\n\u001b[1;32m    622\u001b[0m     \u001b[0;32mif\u001b[0m \u001b[0mchunksize\u001b[0m \u001b[0;32mor\u001b[0m \u001b[0miterator\u001b[0m\u001b[0;34m:\u001b[0m\u001b[0;34m\u001b[0m\u001b[0;34m\u001b[0m\u001b[0m\n",
            "\u001b[0;32m/usr/local/lib/python3.12/dist-packages/pandas/io/parsers/readers.py\u001b[0m in \u001b[0;36m__init__\u001b[0;34m(self, f, engine, **kwds)\u001b[0m\n\u001b[1;32m   1618\u001b[0m \u001b[0;34m\u001b[0m\u001b[0m\n\u001b[1;32m   1619\u001b[0m         \u001b[0mself\u001b[0m\u001b[0;34m.\u001b[0m\u001b[0mhandles\u001b[0m\u001b[0;34m:\u001b[0m \u001b[0mIOHandles\u001b[0m \u001b[0;34m|\u001b[0m \u001b[0;32mNone\u001b[0m \u001b[0;34m=\u001b[0m \u001b[0;32mNone\u001b[0m\u001b[0;34m\u001b[0m\u001b[0;34m\u001b[0m\u001b[0m\n\u001b[0;32m-> 1620\u001b[0;31m         \u001b[0mself\u001b[0m\u001b[0;34m.\u001b[0m\u001b[0m_engine\u001b[0m \u001b[0;34m=\u001b[0m \u001b[0mself\u001b[0m\u001b[0;34m.\u001b[0m\u001b[0m_make_engine\u001b[0m\u001b[0;34m(\u001b[0m\u001b[0mf\u001b[0m\u001b[0;34m,\u001b[0m \u001b[0mself\u001b[0m\u001b[0;34m.\u001b[0m\u001b[0mengine\u001b[0m\u001b[0;34m)\u001b[0m\u001b[0;34m\u001b[0m\u001b[0;34m\u001b[0m\u001b[0m\n\u001b[0m\u001b[1;32m   1621\u001b[0m \u001b[0;34m\u001b[0m\u001b[0m\n\u001b[1;32m   1622\u001b[0m     \u001b[0;32mdef\u001b[0m \u001b[0mclose\u001b[0m\u001b[0;34m(\u001b[0m\u001b[0mself\u001b[0m\u001b[0;34m)\u001b[0m \u001b[0;34m->\u001b[0m \u001b[0;32mNone\u001b[0m\u001b[0;34m:\u001b[0m\u001b[0;34m\u001b[0m\u001b[0;34m\u001b[0m\u001b[0m\n",
            "\u001b[0;32m/usr/local/lib/python3.12/dist-packages/pandas/io/parsers/readers.py\u001b[0m in \u001b[0;36m_make_engine\u001b[0;34m(self, f, engine)\u001b[0m\n\u001b[1;32m   1878\u001b[0m                 \u001b[0;32mif\u001b[0m \u001b[0;34m\"b\"\u001b[0m \u001b[0;32mnot\u001b[0m \u001b[0;32min\u001b[0m \u001b[0mmode\u001b[0m\u001b[0;34m:\u001b[0m\u001b[0;34m\u001b[0m\u001b[0;34m\u001b[0m\u001b[0m\n\u001b[1;32m   1879\u001b[0m                     \u001b[0mmode\u001b[0m \u001b[0;34m+=\u001b[0m \u001b[0;34m\"b\"\u001b[0m\u001b[0;34m\u001b[0m\u001b[0;34m\u001b[0m\u001b[0m\n\u001b[0;32m-> 1880\u001b[0;31m             self.handles = get_handle(\n\u001b[0m\u001b[1;32m   1881\u001b[0m                 \u001b[0mf\u001b[0m\u001b[0;34m,\u001b[0m\u001b[0;34m\u001b[0m\u001b[0;34m\u001b[0m\u001b[0m\n\u001b[1;32m   1882\u001b[0m                 \u001b[0mmode\u001b[0m\u001b[0;34m,\u001b[0m\u001b[0;34m\u001b[0m\u001b[0;34m\u001b[0m\u001b[0m\n",
            "\u001b[0;32m/usr/local/lib/python3.12/dist-packages/pandas/io/common.py\u001b[0m in \u001b[0;36mget_handle\u001b[0;34m(path_or_buf, mode, encoding, compression, memory_map, is_text, errors, storage_options)\u001b[0m\n\u001b[1;32m    871\u001b[0m         \u001b[0;32mif\u001b[0m \u001b[0mioargs\u001b[0m\u001b[0;34m.\u001b[0m\u001b[0mencoding\u001b[0m \u001b[0;32mand\u001b[0m \u001b[0;34m\"b\"\u001b[0m \u001b[0;32mnot\u001b[0m \u001b[0;32min\u001b[0m \u001b[0mioargs\u001b[0m\u001b[0;34m.\u001b[0m\u001b[0mmode\u001b[0m\u001b[0;34m:\u001b[0m\u001b[0;34m\u001b[0m\u001b[0;34m\u001b[0m\u001b[0m\n\u001b[1;32m    872\u001b[0m             \u001b[0;31m# Encoding\u001b[0m\u001b[0;34m\u001b[0m\u001b[0;34m\u001b[0m\u001b[0m\n\u001b[0;32m--> 873\u001b[0;31m             handle = open(\n\u001b[0m\u001b[1;32m    874\u001b[0m                 \u001b[0mhandle\u001b[0m\u001b[0;34m,\u001b[0m\u001b[0;34m\u001b[0m\u001b[0;34m\u001b[0m\u001b[0m\n\u001b[1;32m    875\u001b[0m                 \u001b[0mioargs\u001b[0m\u001b[0;34m.\u001b[0m\u001b[0mmode\u001b[0m\u001b[0;34m,\u001b[0m\u001b[0;34m\u001b[0m\u001b[0;34m\u001b[0m\u001b[0m\n",
            "\u001b[0;31mFileNotFoundError\u001b[0m: [Errno 2] No such file or directory: 'data.csv'"
          ]
        }
      ]
    },
    {
      "cell_type": "markdown",
      "source": [
        "###**10. Calculate the correlation matrix using Seaborn and visualize it with a heatmap.**"
      ],
      "metadata": {
        "id": "VJoCseZ-OnD5"
      }
    },
    {
      "cell_type": "markdown",
      "source": [
        "A Python example showing how to calculate a correlation matrix with Pandas and visualize it using a Seaborn heatmap:"
      ],
      "metadata": {
        "id": "RMyy2UaDOxkt"
      }
    },
    {
      "cell_type": "code",
      "source": [
        "import pandas as pd\n",
        "import seaborn as sns\n",
        "import matplotlib.pyplot as plt\n",
        "\n",
        "# Sample data\n",
        "data = {\n",
        "    \"A\": [30, 40, 45, 65, 85],\n",
        "    \"B\": [65, 56, 48, 39, 25],\n",
        "    \"C\": [18, 24, 36, 47, 79],\n",
        "    \"D\": [65, 15, 19, 28, 23]\n",
        "}\n",
        "\n",
        "# Create a DataFrame\n",
        "df = pd.DataFrame(data)\n",
        "\n",
        "# Calculate correlation matrix\n",
        "corr_matrix = df.corr()\n",
        "\n",
        "# Display correlation matrix\n",
        "print(corr_matrix)\n",
        "\n",
        "# Visualize correlation matrix with a heatmap\n",
        "sns.heatmap(corr_matrix, annot=True, cmap=\"Blues\", linewidths=0.5)\n",
        "plt.title(\"Correlation Heatmap\")\n",
        "plt.show()"
      ],
      "metadata": {
        "colab": {
          "base_uri": "https://localhost:8080/",
          "height": 539
        },
        "id": "xyr6A9OSO87K",
        "outputId": "ee710046-60d9-464e-b659-6ac074248ba4"
      },
      "execution_count": 13,
      "outputs": [
        {
          "output_type": "stream",
          "name": "stdout",
          "text": [
            "          A         B         C         D\n",
            "A  1.000000 -0.987211  0.981434 -0.434930\n",
            "B -0.987211  1.000000 -0.978775  0.525645\n",
            "C  0.981434 -0.978775  1.000000 -0.397998\n",
            "D -0.434930  0.525645 -0.397998  1.000000\n"
          ]
        },
        {
          "output_type": "display_data",
          "data": {
            "text/plain": [
              "<Figure size 640x480 with 2 Axes>"
            ],
            "image/png": "[encoded data removed]"
          },
          "metadata": {}
        }
      ]
    }
  ]
}